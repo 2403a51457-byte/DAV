{
  "nbformat": 4,
  "nbformat_minor": 0,
  "metadata": {
    "colab": {
      "provenance": [],
      "authorship_tag": "ABX9TyOF/iu4hYlzDMHEbIIAGId9",
      "include_colab_link": true
    },
    "kernelspec": {
      "name": "python3",
      "display_name": "Python 3"
    },
    "language_info": {
      "name": "python"
    }
  },
  "cells": [
    {
      "cell_type": "markdown",
      "metadata": {
        "id": "view-in-github",
        "colab_type": "text"
      },
      "source": [
        "<a href=\"https://colab.research.google.com/github/2403a51457-byte/DAV/blob/main/MissingValues.ipynb\" target=\"_parent\"><img src=\"https://colab.research.google.com/assets/colab-badge.svg\" alt=\"Open In Colab\"/></a>"
      ]
    },
    {
      "cell_type": "code",
      "execution_count": 1,
      "metadata": {
        "colab": {
          "base_uri": "https://localhost:8080/"
        },
        "id": "gLLqGUVZjpG0",
        "outputId": "e18e4412-a8e4-48b2-c007-45c664f44df4"
      },
      "outputs": [
        {
          "output_type": "stream",
          "name": "stdout",
          "text": [
            "0    False\n",
            "1    False\n",
            "2    False\n",
            "3    False\n",
            "4     True\n",
            "5    False\n",
            "dtype: bool\n",
            "   patientid  age   bp\n",
            "0          1   25  120\n",
            "1          2   30  130\n",
            "2          3   45  140\n",
            "3          4   40  125\n",
            "5          5   50  135\n"
          ]
        }
      ],
      "source": [
        "import pandas as pd\n",
        "\n",
        "data = {'patientid':[1, 2, 3, 4, 1, 5],\n",
        "        'age':[25, 30, 45, 40, 25, 50],\n",
        "        'bp':[120, 130, 140, 125, 120, 135]}\n",
        "patient_df = pd.DataFrame(data)\n",
        "\n",
        "\n",
        "print(patient_df.duplicated())\n",
        "patient_df = patient_df.drop_duplicates()\n",
        "print(patient_df)"
      ]
    },
    {
      "cell_type": "code",
      "source": [
        "import pandas as pd\n",
        "\n",
        "data = {'orderid': [1, 2, 3, 4],\n",
        "        'product': ['mobile', 'laptop', 'tablet ', 'mobile'],\n",
        "        'amount': [10000, 20000, 30000, 10000]}\n",
        "sales = pd.DataFrame(data)\n",
        "\n",
        "print(sales.duplicated())\n",
        "sales_df = sales.drop_duplicates()\n",
        "print(sales_df)"
      ],
      "metadata": {
        "colab": {
          "base_uri": "https://localhost:8080/"
        },
        "id": "_jrtr5W3jwcP",
        "outputId": "f93b4ed0-61c5-47d9-ae75-1e2cbe321347"
      },
      "execution_count": 2,
      "outputs": [
        {
          "output_type": "stream",
          "name": "stdout",
          "text": [
            "0    False\n",
            "1    False\n",
            "2    False\n",
            "3    False\n",
            "dtype: bool\n",
            "   orderid  product  amount\n",
            "0        1   mobile   10000\n",
            "1        2   laptop   20000\n",
            "2        3  tablet    30000\n",
            "3        4   mobile   10000\n"
          ]
        }
      ]
    },
    {
      "cell_type": "code",
      "source": [
        "import pandas as pd\n",
        "\n",
        "data = {'bp':[120, None, None, 123, None]}\n",
        "df = pd.DataFrame(data)\n",
        "df['bp'].fillna(method='ffill', inplace=True)\n",
        "print(df)"
      ],
      "metadata": {
        "colab": {
          "base_uri": "https://localhost:8080/"
        },
        "id": "--4NY4hLjz0J",
        "outputId": "b0ec87e7-a62b-4a30-898c-0a54b4bb4e30"
      },
      "execution_count": 3,
      "outputs": [
        {
          "output_type": "stream",
          "name": "stdout",
          "text": [
            "      bp\n",
            "0  120.0\n",
            "1  120.0\n",
            "2  120.0\n",
            "3  123.0\n",
            "4  123.0\n"
          ]
        },
        {
          "output_type": "stream",
          "name": "stderr",
          "text": [
            "/tmp/ipython-input-3999717294.py:5: FutureWarning: A value is trying to be set on a copy of a DataFrame or Series through chained assignment using an inplace method.\n",
            "The behavior will change in pandas 3.0. This inplace method will never work because the intermediate object on which we are setting values always behaves as a copy.\n",
            "\n",
            "For example, when doing 'df[col].method(value, inplace=True)', try using 'df.method({col: value}, inplace=True)' or df[col] = df[col].method(value) instead, to perform the operation inplace on the original object.\n",
            "\n",
            "\n",
            "  df['bp'].fillna(method='ffill', inplace=True)\n",
            "/tmp/ipython-input-3999717294.py:5: FutureWarning: Series.fillna with 'method' is deprecated and will raise in a future version. Use obj.ffill() or obj.bfill() instead.\n",
            "  df['bp'].fillna(method='ffill', inplace=True)\n"
          ]
        }
      ]
    },
    {
      "cell_type": "code",
      "source": [
        "import pandas as pd\n",
        "import numpy as np\n",
        "\n",
        "data = {'patientid':[1,2,3,4,5],\n",
        "        'age':[25,30,None,40,50],\n",
        "        'bp':[120,None,110,200,None]}\n",
        "df=pd.DataFrame(data)\n",
        "print(df)"
      ],
      "metadata": {
        "colab": {
          "base_uri": "https://localhost:8080/"
        },
        "id": "ZgbwHXpSj40G",
        "outputId": "11d75f29-e360-42c7-cdc7-c552765e475b"
      },
      "execution_count": 4,
      "outputs": [
        {
          "output_type": "stream",
          "name": "stdout",
          "text": [
            "   patientid   age     bp\n",
            "0          1  25.0  120.0\n",
            "1          2  30.0    NaN\n",
            "2          3   NaN  110.0\n",
            "3          4  40.0  200.0\n",
            "4          5  50.0    NaN\n"
          ]
        }
      ]
    },
    {
      "cell_type": "code",
      "source": [
        "df['age'].fillna(df['age'].mean(),inplace=True)\n",
        "print(df)"
      ],
      "metadata": {
        "colab": {
          "base_uri": "https://localhost:8080/"
        },
        "id": "MBsZQ7oVj6XS",
        "outputId": "3c130187-97d7-4225-987f-fa701eba5c16"
      },
      "execution_count": 5,
      "outputs": [
        {
          "output_type": "stream",
          "name": "stdout",
          "text": [
            "   patientid    age     bp\n",
            "0          1  25.00  120.0\n",
            "1          2  30.00    NaN\n",
            "2          3  36.25  110.0\n",
            "3          4  40.00  200.0\n",
            "4          5  50.00    NaN\n"
          ]
        },
        {
          "output_type": "stream",
          "name": "stderr",
          "text": [
            "/tmp/ipython-input-2644800082.py:1: FutureWarning: A value is trying to be set on a copy of a DataFrame or Series through chained assignment using an inplace method.\n",
            "The behavior will change in pandas 3.0. This inplace method will never work because the intermediate object on which we are setting values always behaves as a copy.\n",
            "\n",
            "For example, when doing 'df[col].method(value, inplace=True)', try using 'df.method({col: value}, inplace=True)' or df[col] = df[col].method(value) instead, to perform the operation inplace on the original object.\n",
            "\n",
            "\n",
            "  df['age'].fillna(df['age'].mean(),inplace=True)\n"
          ]
        }
      ]
    }
  ]
}